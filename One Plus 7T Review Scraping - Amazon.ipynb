{
 "cells": [
  {
   "cell_type": "code",
   "execution_count": 12,
   "metadata": {},
   "outputs": [],
   "source": [
    "from bs4 import BeautifulSoup as bs"
   ]
  },
  {
   "cell_type": "code",
   "execution_count": 13,
   "metadata": {},
   "outputs": [],
   "source": [
    "import requests"
   ]
  },
  {
   "cell_type": "code",
   "execution_count": 60,
   "metadata": {},
   "outputs": [],
   "source": [
    "import pandas as pd"
   ]
  },
  {
   "cell_type": "code",
   "execution_count": 17,
   "metadata": {},
   "outputs": [],
   "source": [
    "#One Plus 7T Review URL\n",
    "url = 'https://www.amazon.in/Test-Exclusive-748/product-reviews/B07DJLVJ5M/ref=cm_cr_arp_d_viewpnt_lft?ie=UTF8&reviewerType=all_reviews&filterByStar=positive&pageNumber=1'"
   ]
  },
  {
   "cell_type": "code",
   "execution_count": 18,
   "metadata": {},
   "outputs": [],
   "source": [
    "page = requests.get(url)"
   ]
  },
  {
   "cell_type": "code",
   "execution_count": 19,
   "metadata": {},
   "outputs": [
    {
     "data": {
      "text/plain": [
       "<Response [200]>"
      ]
     },
     "execution_count": 19,
     "metadata": {},
     "output_type": "execute_result"
    }
   ],
   "source": [
    "page"
   ]
  },
  {
   "cell_type": "code",
   "execution_count": 20,
   "metadata": {},
   "outputs": [],
   "source": [
    "soup = bs(page.content, 'html.parser')"
   ]
  },
  {
   "cell_type": "code",
   "execution_count": 21,
   "metadata": {},
   "outputs": [],
   "source": [
    "names = soup.find_all('span', class_='a-profile-name')"
   ]
  },
  {
   "cell_type": "code",
   "execution_count": 22,
   "metadata": {},
   "outputs": [
    {
     "data": {
      "text/plain": [
       "[<span class=\"a-profile-name\">Amazon Customer</span>,\n",
       " <span class=\"a-profile-name\">Praggya</span>,\n",
       " <span class=\"a-profile-name\">Amazon Customer</span>,\n",
       " <span class=\"a-profile-name\">Kshitij Kumar</span>,\n",
       " <span class=\"a-profile-name\">manikanta</span>,\n",
       " <span class=\"a-profile-name\">Yugal View Extra</span>,\n",
       " <span class=\"a-profile-name\">Rajesh Adhikary</span>,\n",
       " <span class=\"a-profile-name\">Piyush Vaibhav</span>,\n",
       " <span class=\"a-profile-name\">Dheeraj Malhotra</span>,\n",
       " <span class=\"a-profile-name\">Avengers</span>,\n",
       " <span class=\"a-profile-name\">balamurugan.k</span>,\n",
       " <span class=\"a-profile-name\">Saiteja</span>]"
      ]
     },
     "execution_count": 22,
     "metadata": {},
     "output_type": "execute_result"
    }
   ],
   "source": [
    "names"
   ]
  },
  {
   "cell_type": "code",
   "execution_count": 23,
   "metadata": {},
   "outputs": [],
   "source": [
    "cust_name = []\n",
    "for i in range(0, len(names)):\n",
    "    cust_name.append(names[i].get_text())"
   ]
  },
  {
   "cell_type": "code",
   "execution_count": 24,
   "metadata": {},
   "outputs": [
    {
     "data": {
      "text/plain": [
       "['Amazon Customer',\n",
       " 'Praggya',\n",
       " 'Amazon Customer',\n",
       " 'Kshitij Kumar',\n",
       " 'manikanta',\n",
       " 'Yugal View Extra',\n",
       " 'Rajesh Adhikary',\n",
       " 'Piyush Vaibhav',\n",
       " 'Dheeraj Malhotra',\n",
       " 'Avengers',\n",
       " 'balamurugan.k',\n",
       " 'Saiteja']"
      ]
     },
     "execution_count": 24,
     "metadata": {},
     "output_type": "execute_result"
    }
   ],
   "source": [
    "cust_name"
   ]
  },
  {
   "cell_type": "code",
   "execution_count": 25,
   "metadata": {},
   "outputs": [
    {
     "data": {
      "text/plain": [
       "'Amazon Customer'"
      ]
     },
     "execution_count": 25,
     "metadata": {},
     "output_type": "execute_result"
    }
   ],
   "source": [
    "cust_name.pop(0)"
   ]
  },
  {
   "cell_type": "code",
   "execution_count": 26,
   "metadata": {},
   "outputs": [
    {
     "data": {
      "text/plain": [
       "'Praggya'"
      ]
     },
     "execution_count": 26,
     "metadata": {},
     "output_type": "execute_result"
    }
   ],
   "source": [
    "cust_name.pop(0)"
   ]
  },
  {
   "cell_type": "code",
   "execution_count": 27,
   "metadata": {},
   "outputs": [
    {
     "data": {
      "text/plain": [
       "['Amazon Customer',\n",
       " 'Kshitij Kumar',\n",
       " 'manikanta',\n",
       " 'Yugal View Extra',\n",
       " 'Rajesh Adhikary',\n",
       " 'Piyush Vaibhav',\n",
       " 'Dheeraj Malhotra',\n",
       " 'Avengers',\n",
       " 'balamurugan.k',\n",
       " 'Saiteja']"
      ]
     },
     "execution_count": 27,
     "metadata": {},
     "output_type": "execute_result"
    }
   ],
   "source": [
    "cust_name   #Got Customer Name"
   ]
  },
  {
   "cell_type": "code",
   "execution_count": 77,
   "metadata": {},
   "outputs": [],
   "source": [
    "rev_title = soup.find_all('a', class_='review-title-content')"
   ]
  },
  {
   "cell_type": "code",
   "execution_count": 107,
   "metadata": {},
   "outputs": [
    {
     "data": {
      "text/plain": [
       "[<a class=\"a-size-base a-link-normal review-title a-color-base review-title-content a-text-bold\" data-hook=\"review-title\" href=\"/gp/customer-reviews/R34CR90W5F1MR7?ASIN=B07DJLVJ5M\">\n",
       " <span>Treat to the eye</span>\n",
       " </a>,\n",
       " <a class=\"a-size-base a-link-normal review-title a-color-base review-title-content a-text-bold\" data-hook=\"review-title\" href=\"/gp/customer-reviews/RHCUTQ5LT7BTQ?ASIN=B07DJLVJ5M\">\n",
       " <span>Best experience</span>\n",
       " </a>,\n",
       " <a class=\"a-size-base a-link-normal review-title a-color-base review-title-content a-text-bold\" data-hook=\"review-title\" href=\"/gp/customer-reviews/RJ1XR61YJSJ7S?ASIN=B07DJLVJ5M\">\n",
       " <span>One Plus 7T - One Word, STUNNING!!</span>\n",
       " </a>,\n",
       " <a class=\"a-size-base a-link-normal review-title a-color-base review-title-content a-text-bold\" data-hook=\"review-title\" href=\"/gp/customer-reviews/R153FC90S47UXI?ASIN=B07DJLVJ5M\">\n",
       " <span>Super fast phone with super amazing camera</span>\n",
       " </a>,\n",
       " <a class=\"a-size-base a-link-normal review-title a-color-base review-title-content a-text-bold\" data-hook=\"review-title\" href=\"/gp/customer-reviews/R2MQI0AWQ2NSJD?ASIN=B07DJLVJ5M\">\n",
       " <span>Pro Camera, performance, looks. Cons Battery drain and heating up issues</span>\n",
       " </a>,\n",
       " <a class=\"a-size-base a-link-normal review-title a-color-base review-title-content a-text-bold\" data-hook=\"review-title\" href=\"/gp/customer-reviews/R3DQBNQVSSRG71?ASIN=B07DJLVJ5M\">\n",
       " <span>I think an all rounder!</span>\n",
       " </a>,\n",
       " <a class=\"a-size-base a-link-normal review-title a-color-base review-title-content a-text-bold\" data-hook=\"review-title\" href=\"/gp/customer-reviews/R2BS3S6JZM1RDB?ASIN=B07DJLVJ5M\">\n",
       " <span>No earphone jack</span>\n",
       " </a>,\n",
       " <a class=\"a-size-base a-link-normal review-title a-color-base review-title-content a-text-bold\" data-hook=\"review-title\" href=\"/gp/customer-reviews/R17K6S07CB91YF?ASIN=B07DJLVJ5M\">\n",
       " <span>Good phone</span>\n",
       " </a>,\n",
       " <a class=\"a-size-base a-link-normal review-title a-color-base review-title-content a-text-bold\" data-hook=\"review-title\" href=\"/gp/customer-reviews/R1PI2XIR0ZT3VC?ASIN=B07DJLVJ5M\">\n",
       " <span>Superb mobile</span>\n",
       " </a>,\n",
       " <a class=\"a-size-base a-link-normal review-title a-color-base review-title-content a-text-bold\" data-hook=\"review-title\" href=\"/gp/customer-reviews/R1EJ09PPTV188I?ASIN=B07DJLVJ5M\">\n",
       " <span>Very good</span>\n",
       " </a>]"
      ]
     },
     "execution_count": 107,
     "metadata": {},
     "output_type": "execute_result"
    }
   ],
   "source": [
    "rev_title"
   ]
  },
  {
   "cell_type": "code",
   "execution_count": 108,
   "metadata": {},
   "outputs": [],
   "source": [
    "review_title = []\n",
    "for i in range(0, len(rev_title)):\n",
    "    review_title.append(rev_title[i].get_text())"
   ]
  },
  {
   "cell_type": "code",
   "execution_count": 109,
   "metadata": {},
   "outputs": [],
   "source": [
    "#remove \\n from left and right side\n",
    "review_title[:] = [ titles.lstrip('\\n') for titles in review_title]  #lstrip - left strip\n",
    "review_title[:] = [ titles.rstrip('\\n') for titles in review_title] #rstrip - right strip"
   ]
  },
  {
   "cell_type": "code",
   "execution_count": 110,
   "metadata": {},
   "outputs": [
    {
     "data": {
      "text/plain": [
       "['Treat to the eye',\n",
       " 'Best experience',\n",
       " 'One Plus 7T - One Word, STUNNING!!',\n",
       " 'Super fast phone with super amazing camera',\n",
       " 'Pro Camera, performance, looks. Cons Battery drain and heating up issues',\n",
       " 'I think an all rounder!',\n",
       " 'No earphone jack',\n",
       " 'Good phone',\n",
       " 'Superb mobile',\n",
       " 'Very good']"
      ]
     },
     "execution_count": 110,
     "metadata": {},
     "output_type": "execute_result"
    }
   ],
   "source": [
    "review_title   #Got review title"
   ]
  },
  {
   "cell_type": "code",
   "execution_count": 111,
   "metadata": {},
   "outputs": [],
   "source": [
    "rating = soup.find_all('i', class_='review-rating')"
   ]
  },
  {
   "cell_type": "code",
   "execution_count": 112,
   "metadata": {},
   "outputs": [
    {
     "data": {
      "text/plain": [
       "[<i class=\"a-icon a-icon-star a-star-4 review-rating\" data-hook=\"review-star-rating-view-point\"><span class=\"a-icon-alt\">4.0 out of 5 stars</span></i>,\n",
       " <i class=\"a-icon a-icon-star a-star-3 review-rating\" data-hook=\"review-star-rating-view-point\"><span class=\"a-icon-alt\">3.0 out of 5 stars</span></i>,\n",
       " <i class=\"a-icon a-icon-star a-star-4 review-rating\" data-hook=\"review-star-rating\"><span class=\"a-icon-alt\">4.0 out of 5 stars</span></i>,\n",
       " <i class=\"a-icon a-icon-star a-star-5 review-rating\" data-hook=\"review-star-rating\"><span class=\"a-icon-alt\">5.0 out of 5 stars</span></i>,\n",
       " <i class=\"a-icon a-icon-star a-star-5 review-rating\" data-hook=\"review-star-rating\"><span class=\"a-icon-alt\">5.0 out of 5 stars</span></i>,\n",
       " <i class=\"a-icon a-icon-star a-star-5 review-rating\" data-hook=\"review-star-rating\"><span class=\"a-icon-alt\">5.0 out of 5 stars</span></i>,\n",
       " <i class=\"a-icon a-icon-star a-star-4 review-rating\" data-hook=\"review-star-rating\"><span class=\"a-icon-alt\">4.0 out of 5 stars</span></i>,\n",
       " <i class=\"a-icon a-icon-star a-star-5 review-rating\" data-hook=\"review-star-rating\"><span class=\"a-icon-alt\">5.0 out of 5 stars</span></i>,\n",
       " <i class=\"a-icon a-icon-star a-star-4 review-rating\" data-hook=\"review-star-rating\"><span class=\"a-icon-alt\">4.0 out of 5 stars</span></i>,\n",
       " <i class=\"a-icon a-icon-star a-star-5 review-rating\" data-hook=\"review-star-rating\"><span class=\"a-icon-alt\">5.0 out of 5 stars</span></i>,\n",
       " <i class=\"a-icon a-icon-star a-star-5 review-rating\" data-hook=\"review-star-rating\"><span class=\"a-icon-alt\">5.0 out of 5 stars</span></i>,\n",
       " <i class=\"a-icon a-icon-star a-star-5 review-rating\" data-hook=\"review-star-rating\"><span class=\"a-icon-alt\">5.0 out of 5 stars</span></i>]"
      ]
     },
     "execution_count": 112,
     "metadata": {},
     "output_type": "execute_result"
    }
   ],
   "source": [
    "rating"
   ]
  },
  {
   "cell_type": "code",
   "execution_count": 113,
   "metadata": {},
   "outputs": [],
   "source": [
    "rate = []\n",
    "for i in range(0, len(rating)):\n",
    "    rate.append(rating[i].get_text())"
   ]
  },
  {
   "cell_type": "code",
   "execution_count": 114,
   "metadata": {},
   "outputs": [
    {
     "data": {
      "text/plain": [
       "12"
      ]
     },
     "execution_count": 114,
     "metadata": {},
     "output_type": "execute_result"
    }
   ],
   "source": [
    "len(rate)"
   ]
  },
  {
   "cell_type": "code",
   "execution_count": 115,
   "metadata": {},
   "outputs": [
    {
     "data": {
      "text/plain": [
       "'4.0 out of 5 stars'"
      ]
     },
     "execution_count": 115,
     "metadata": {},
     "output_type": "execute_result"
    }
   ],
   "source": [
    "rate.pop(0)"
   ]
  },
  {
   "cell_type": "code",
   "execution_count": 116,
   "metadata": {},
   "outputs": [
    {
     "data": {
      "text/plain": [
       "'3.0 out of 5 stars'"
      ]
     },
     "execution_count": 116,
     "metadata": {},
     "output_type": "execute_result"
    }
   ],
   "source": [
    "rate.pop(0)"
   ]
  },
  {
   "cell_type": "code",
   "execution_count": 117,
   "metadata": {},
   "outputs": [
    {
     "data": {
      "text/plain": [
       "10"
      ]
     },
     "execution_count": 117,
     "metadata": {},
     "output_type": "execute_result"
    }
   ],
   "source": [
    "len(rate)"
   ]
  },
  {
   "cell_type": "code",
   "execution_count": 118,
   "metadata": {},
   "outputs": [
    {
     "data": {
      "text/plain": [
       "['4.0 out of 5 stars',\n",
       " '5.0 out of 5 stars',\n",
       " '5.0 out of 5 stars',\n",
       " '5.0 out of 5 stars',\n",
       " '4.0 out of 5 stars',\n",
       " '5.0 out of 5 stars',\n",
       " '4.0 out of 5 stars',\n",
       " '5.0 out of 5 stars',\n",
       " '5.0 out of 5 stars',\n",
       " '5.0 out of 5 stars']"
      ]
     },
     "execution_count": 118,
     "metadata": {},
     "output_type": "execute_result"
    }
   ],
   "source": [
    "rate   #Got star rating"
   ]
  },
  {
   "cell_type": "code",
   "execution_count": 119,
   "metadata": {},
   "outputs": [],
   "source": [
    "reviewC = soup.find_all(\"span\", {\"data-hook\":\"review-body\"})"
   ]
  },
  {
   "cell_type": "code",
   "execution_count": 120,
   "metadata": {},
   "outputs": [
    {
     "data": {
      "text/plain": [
       "[<span class=\"a-size-base review-text review-text-content\" data-hook=\"review-body\">\n",
       " <span>Detailed review --<br/><br/>Design - 4/5<br/>+Reduced notch<br/>+Premium glass back<br/>-Camera bump<br/><br/>Performance - 5/5<br/>+Latest and greatest hardware<br/>+Smart optimisations<br/><br/>OS - 4.5/5<br/>+Smooth Android experience - Oxygen OS<br/><br/>Display - 4.5/5<br/>+Butter smooth 90 Hz Amoled display - treat to the eye<br/><br/>Battery -3.5/5<br/>+Fastest charging ever seen<br/>-Less capacity<br/><br/>Camera -4/5<br/>+Overall good output with all 3 cameras<br/>+ Amazing macro mode<br/>- Misses details and messes up with Colors sometimes<br/><br/>Audio - 4/5<br/>+Clear and loud - quality output</span>\n",
       " </span>,\n",
       " <span class=\"a-size-base review-text review-text-content\" data-hook=\"review-body\">\n",
       " <span>Awesome experience..best in class camera... oxygen os..love</span>\n",
       " </span>,\n",
       " <span class=\"a-size-base review-text review-text-content\" data-hook=\"review-body\">\n",
       " <span>I received One Plus 7T 2 days back. I will describe you my experience in these 2 days.<br/><br/>Firstly, kudos to Amazon for such a quick delivery and excellent packaging.<br/><br/>Coming to the mobile, the first impression is just amazing. Its smooth, fast and you can't come out of it.<br/><br/>The amoeld display is stunning and camera is amazing. Battery backup is also too good. And it took me 40 min to charge from 2% to 100%.<br/><br/>PROS:<br/>CAMERA - 4.8/5<br/>BATTERY- 5/5<br/>Display - 4.7/5<br/>Performance - 4.8/5<br/>Speed - 5/5<br/>Gaming experience- 4.8/5<br/><br/>CONS<br/>NO Headset jack.<br/>One Plus didn't even provide 3.5mm Type C Converter either which dissapointed me.<br/>Camera design could have been made better (But I feel better compared to Apple 11 pro)<br/><br/>Overall: 4.7/5  One Plus proves again why its the BEST MOBILE right now. Go for it.</span>\n",
       " </span>,\n",
       " <span class=\"a-size-base review-text review-text-content\" data-hook=\"review-body\">\n",
       " <span>8 Gb Ram<br/>128 Gb storage.<br/><br/>This is super amazing phone.<br/>It is super fast Like bullet Train.<br/>Obviously it will never hang.<br/><br/>Camera quality is better than OnePlus 7  Because it has triple camera 😍 .<br/><br/>Design of phone is also amazing.<br/><br/>Turbo charging with 3800 mAH battery is too good.</span>\n",
       " </span>,\n",
       " <span class=\"a-size-base review-text review-text-content\" data-hook=\"review-body\">\n",
       " <span>This phone has great performance, good camera and ambiance. Charging is fast as per the Oneplus standards set in earlier phones.<br/> What is concerning me is the heating issue which crops up off and on. The Battery drains quickly so we have to keep it at 60Hz to longer life. Is there anyone else feeling the heating issues?</span>\n",
       " </span>,\n",
       " <span class=\"a-size-base review-text review-text-content\" data-hook=\"review-body\">\n",
       " <span>I am among the first to buy this phone with prime membership. Posting this review after a week of using the phone. I can't compare it with other flagships as this is my first one in this range. I loved the 90Hz display and the fingerprint reader is also quite good. There is no lagging issue till now. The battery backup is good but not excellent with such a higher frame rate but man the charging speed is much more than wonderful. I was totally amazed at first. Camera quality is good but the colour sensing needs some improvements. It's a bit warm and not natural as you can see in the photos provided,one without adjustment and the other one with warmth reduced a bit. Speakers are loud and produce decent sound. Haven't checked the selfie camera and the video recording till now.</span>\n",
       " </span>,\n",
       " <span class=\"a-size-base review-text review-text-content\" data-hook=\"review-body\">\n",
       " <span>No earphone jack</span>\n",
       " </span>,\n",
       " <span class=\"a-size-base review-text review-text-content\" data-hook=\"review-body\">\n",
       " <span>A One plus user.<br/><br/>Oneplus One -&gt; Oneplus 3T -&gt; Oneplus 7T.<br/>I don't like other android phones due it's UI, love stock android.<br/>Camara is awesome<br/>Facing problem with notifications, don't know what at top.<br/>I was expecting great battery but its average.<br/>As i moved from 3T to 7T, I had to buy wireless headphones and was worried about this. But Bluetooth connection is also good/stable.</span>\n",
       " </span>,\n",
       " <span class=\"a-size-base review-text review-text-content\" data-hook=\"review-body\">\n",
       " <span>After 1st update battery capacity is good</span>\n",
       " </span>,\n",
       " <span class=\"a-size-base review-text review-text-content\" data-hook=\"review-body\">\n",
       " <span>Camera quality l, gestures, condition of package all very good.</span>\n",
       " </span>]"
      ]
     },
     "execution_count": 120,
     "metadata": {},
     "output_type": "execute_result"
    }
   ],
   "source": [
    "reviewC"
   ]
  },
  {
   "cell_type": "code",
   "execution_count": 121,
   "metadata": {},
   "outputs": [],
   "source": [
    "review_detail = []\n",
    "for i in range(0, len(reviewC)):\n",
    "    review_detail.append(reviewC[i].get_text())"
   ]
  },
  {
   "cell_type": "code",
   "execution_count": 122,
   "metadata": {},
   "outputs": [
    {
     "data": {
      "text/plain": [
       "['\\nDetailed review --Design - 4/5+Reduced notch+Premium glass back-Camera bumpPerformance - 5/5+Latest and greatest hardware+Smart optimisationsOS - 4.5/5+Smooth Android experience - Oxygen OSDisplay - 4.5/5+Butter smooth 90 Hz Amoled display - treat to the eyeBattery -3.5/5+Fastest charging ever seen-Less capacityCamera -4/5+Overall good output with all 3 cameras+ Amazing macro mode- Misses details and messes up with Colors sometimesAudio - 4/5+Clear and loud - quality output\\n',\n",
       " '\\nAwesome experience..best in class camera... oxygen os..love\\n',\n",
       " \"\\nI received One Plus 7T 2 days back. I will describe you my experience in these 2 days.Firstly, kudos to Amazon for such a quick delivery and excellent packaging.Coming to the mobile, the first impression is just amazing. Its smooth, fast and you can't come out of it.The amoeld display is stunning and camera is amazing. Battery backup is also too good. And it took me 40 min to charge from 2% to 100%.PROS:CAMERA - 4.8/5BATTERY- 5/5Display - 4.7/5Performance - 4.8/5Speed - 5/5Gaming experience- 4.8/5CONSNO Headset jack.One Plus didn't even provide 3.5mm Type C Converter either which dissapointed me.Camera design could have been made better (But I feel better compared to Apple 11 pro)Overall: 4.7/5  One Plus proves again why its the BEST MOBILE right now. Go for it.\\n\",\n",
       " '\\n8 Gb Ram128 Gb storage.This is super amazing phone.It is super fast Like bullet Train.Obviously it will never hang.Camera quality is better than OnePlus 7  Because it has triple camera 😍 .Design of phone is also amazing.Turbo charging with 3800 mAH battery is too good.\\n',\n",
       " '\\nThis phone has great performance, good camera and ambiance. Charging is fast as per the Oneplus standards set in earlier phones. What is concerning me is the heating issue which crops up off and on. The Battery drains quickly so we have to keep it at 60Hz to longer life. Is there anyone else feeling the heating issues?\\n',\n",
       " \"\\nI am among the first to buy this phone with prime membership. Posting this review after a week of using the phone. I can't compare it with other flagships as this is my first one in this range. I loved the 90Hz display and the fingerprint reader is also quite good. There is no lagging issue till now. The battery backup is good but not excellent with such a higher frame rate but man the charging speed is much more than wonderful. I was totally amazed at first. Camera quality is good but the colour sensing needs some improvements. It's a bit warm and not natural as you can see in the photos provided,one without adjustment and the other one with warmth reduced a bit. Speakers are loud and produce decent sound. Haven't checked the selfie camera and the video recording till now.\\n\",\n",
       " '\\nNo earphone jack\\n',\n",
       " \"\\nA One plus user.Oneplus One -> Oneplus 3T -> Oneplus 7T.I don't like other android phones due it's UI, love stock android.Camara is awesomeFacing problem with notifications, don't know what at top.I was expecting great battery but its average.As i moved from 3T to 7T, I had to buy wireless headphones and was worried about this. But Bluetooth connection is also good/stable.\\n\",\n",
       " '\\nAfter 1st update battery capacity is good\\n',\n",
       " '\\nCamera quality l, gestures, condition of package all very good.\\n']"
      ]
     },
     "execution_count": 122,
     "metadata": {},
     "output_type": "execute_result"
    }
   ],
   "source": [
    "review_detail"
   ]
  },
  {
   "cell_type": "code",
   "execution_count": 123,
   "metadata": {},
   "outputs": [],
   "source": [
    "#remove \\n from left and right side\n",
    "review_detail[:] = [ details.lstrip('\\n') for details in review_detail]  #lstrip - left strip\n",
    "review_detail[:] = [ details.rstrip('\\n') for details in review_detail] #rstrip - right strip"
   ]
  },
  {
   "cell_type": "code",
   "execution_count": 124,
   "metadata": {},
   "outputs": [
    {
     "data": {
      "text/plain": [
       "['Detailed review --Design - 4/5+Reduced notch+Premium glass back-Camera bumpPerformance - 5/5+Latest and greatest hardware+Smart optimisationsOS - 4.5/5+Smooth Android experience - Oxygen OSDisplay - 4.5/5+Butter smooth 90 Hz Amoled display - treat to the eyeBattery -3.5/5+Fastest charging ever seen-Less capacityCamera -4/5+Overall good output with all 3 cameras+ Amazing macro mode- Misses details and messes up with Colors sometimesAudio - 4/5+Clear and loud - quality output',\n",
       " 'Awesome experience..best in class camera... oxygen os..love',\n",
       " \"I received One Plus 7T 2 days back. I will describe you my experience in these 2 days.Firstly, kudos to Amazon for such a quick delivery and excellent packaging.Coming to the mobile, the first impression is just amazing. Its smooth, fast and you can't come out of it.The amoeld display is stunning and camera is amazing. Battery backup is also too good. And it took me 40 min to charge from 2% to 100%.PROS:CAMERA - 4.8/5BATTERY- 5/5Display - 4.7/5Performance - 4.8/5Speed - 5/5Gaming experience- 4.8/5CONSNO Headset jack.One Plus didn't even provide 3.5mm Type C Converter either which dissapointed me.Camera design could have been made better (But I feel better compared to Apple 11 pro)Overall: 4.7/5  One Plus proves again why its the BEST MOBILE right now. Go for it.\",\n",
       " '8 Gb Ram128 Gb storage.This is super amazing phone.It is super fast Like bullet Train.Obviously it will never hang.Camera quality is better than OnePlus 7  Because it has triple camera 😍 .Design of phone is also amazing.Turbo charging with 3800 mAH battery is too good.',\n",
       " 'This phone has great performance, good camera and ambiance. Charging is fast as per the Oneplus standards set in earlier phones. What is concerning me is the heating issue which crops up off and on. The Battery drains quickly so we have to keep it at 60Hz to longer life. Is there anyone else feeling the heating issues?',\n",
       " \"I am among the first to buy this phone with prime membership. Posting this review after a week of using the phone. I can't compare it with other flagships as this is my first one in this range. I loved the 90Hz display and the fingerprint reader is also quite good. There is no lagging issue till now. The battery backup is good but not excellent with such a higher frame rate but man the charging speed is much more than wonderful. I was totally amazed at first. Camera quality is good but the colour sensing needs some improvements. It's a bit warm and not natural as you can see in the photos provided,one without adjustment and the other one with warmth reduced a bit. Speakers are loud and produce decent sound. Haven't checked the selfie camera and the video recording till now.\",\n",
       " 'No earphone jack',\n",
       " \"A One plus user.Oneplus One -> Oneplus 3T -> Oneplus 7T.I don't like other android phones due it's UI, love stock android.Camara is awesomeFacing problem with notifications, don't know what at top.I was expecting great battery but its average.As i moved from 3T to 7T, I had to buy wireless headphones and was worried about this. But Bluetooth connection is also good/stable.\",\n",
       " 'After 1st update battery capacity is good',\n",
       " 'Camera quality l, gestures, condition of package all very good.']"
      ]
     },
     "execution_count": 124,
     "metadata": {},
     "output_type": "execute_result"
    }
   ],
   "source": [
    "review_detail  #Got review content"
   ]
  },
  {
   "cell_type": "markdown",
   "metadata": {},
   "source": [
    "#### cust_name    #Got Customer Name\n",
    "#### review_title #Got review title\n",
    "#### rate         #Got star rating\n",
    "#### review_detail  #Got review content"
   ]
  },
  {
   "cell_type": "code",
   "execution_count": 137,
   "metadata": {},
   "outputs": [],
   "source": [
    "rdf = pd.DataFrame()"
   ]
  },
  {
   "cell_type": "code",
   "execution_count": 139,
   "metadata": {},
   "outputs": [],
   "source": [
    "rdf['Customer Name'] = cust_name\n",
    "rdf['Review Title'] = review_title \n",
    "rdf['Rating'] = rate\n",
    "rdf['Reviews '] = review_detail"
   ]
  },
  {
   "cell_type": "code",
   "execution_count": 140,
   "metadata": {},
   "outputs": [
    {
     "data": {
      "text/html": [
       "<div>\n",
       "<style scoped>\n",
       "    .dataframe tbody tr th:only-of-type {\n",
       "        vertical-align: middle;\n",
       "    }\n",
       "\n",
       "    .dataframe tbody tr th {\n",
       "        vertical-align: top;\n",
       "    }\n",
       "\n",
       "    .dataframe thead th {\n",
       "        text-align: right;\n",
       "    }\n",
       "</style>\n",
       "<table border=\"1\" class=\"dataframe\">\n",
       "  <thead>\n",
       "    <tr style=\"text-align: right;\">\n",
       "      <th></th>\n",
       "      <th>Customer Name</th>\n",
       "      <th>Review Title</th>\n",
       "      <th>Rating</th>\n",
       "      <th>Reviews</th>\n",
       "    </tr>\n",
       "  </thead>\n",
       "  <tbody>\n",
       "    <tr>\n",
       "      <th>0</th>\n",
       "      <td>Amazon Customer</td>\n",
       "      <td>Treat to the eye</td>\n",
       "      <td>4.0 out of 5 stars</td>\n",
       "      <td>Detailed review --Design - 4/5+Reduced notch+P...</td>\n",
       "    </tr>\n",
       "    <tr>\n",
       "      <th>1</th>\n",
       "      <td>Kshitij Kumar</td>\n",
       "      <td>Best experience</td>\n",
       "      <td>5.0 out of 5 stars</td>\n",
       "      <td>Awesome experience..best in class camera... ox...</td>\n",
       "    </tr>\n",
       "    <tr>\n",
       "      <th>2</th>\n",
       "      <td>manikanta</td>\n",
       "      <td>One Plus 7T - One Word, STUNNING!!</td>\n",
       "      <td>5.0 out of 5 stars</td>\n",
       "      <td>I received One Plus 7T 2 days back. I will des...</td>\n",
       "    </tr>\n",
       "    <tr>\n",
       "      <th>3</th>\n",
       "      <td>Yugal View Extra</td>\n",
       "      <td>Super fast phone with super amazing camera</td>\n",
       "      <td>5.0 out of 5 stars</td>\n",
       "      <td>8 Gb Ram128 Gb storage.This is super amazing p...</td>\n",
       "    </tr>\n",
       "    <tr>\n",
       "      <th>4</th>\n",
       "      <td>Rajesh Adhikary</td>\n",
       "      <td>Pro Camera, performance, looks. Cons Battery d...</td>\n",
       "      <td>4.0 out of 5 stars</td>\n",
       "      <td>This phone has great performance, good camera ...</td>\n",
       "    </tr>\n",
       "    <tr>\n",
       "      <th>5</th>\n",
       "      <td>Piyush Vaibhav</td>\n",
       "      <td>I think an all rounder!</td>\n",
       "      <td>5.0 out of 5 stars</td>\n",
       "      <td>I am among the first to buy this phone with pr...</td>\n",
       "    </tr>\n",
       "    <tr>\n",
       "      <th>6</th>\n",
       "      <td>Dheeraj Malhotra</td>\n",
       "      <td>No earphone jack</td>\n",
       "      <td>4.0 out of 5 stars</td>\n",
       "      <td>No earphone jack</td>\n",
       "    </tr>\n",
       "    <tr>\n",
       "      <th>7</th>\n",
       "      <td>Avengers</td>\n",
       "      <td>Good phone</td>\n",
       "      <td>5.0 out of 5 stars</td>\n",
       "      <td>A One plus user.Oneplus One -&gt; Oneplus 3T -&gt; O...</td>\n",
       "    </tr>\n",
       "    <tr>\n",
       "      <th>8</th>\n",
       "      <td>balamurugan.k</td>\n",
       "      <td>Superb mobile</td>\n",
       "      <td>5.0 out of 5 stars</td>\n",
       "      <td>After 1st update battery capacity is good</td>\n",
       "    </tr>\n",
       "    <tr>\n",
       "      <th>9</th>\n",
       "      <td>Saiteja</td>\n",
       "      <td>Very good</td>\n",
       "      <td>5.0 out of 5 stars</td>\n",
       "      <td>Camera quality l, gestures, condition of packa...</td>\n",
       "    </tr>\n",
       "  </tbody>\n",
       "</table>\n",
       "</div>"
      ],
      "text/plain": [
       "      Customer Name                                       Review Title  \\\n",
       "0   Amazon Customer                                   Treat to the eye   \n",
       "1     Kshitij Kumar                                    Best experience   \n",
       "2         manikanta                 One Plus 7T - One Word, STUNNING!!   \n",
       "3  Yugal View Extra         Super fast phone with super amazing camera   \n",
       "4   Rajesh Adhikary  Pro Camera, performance, looks. Cons Battery d...   \n",
       "5    Piyush Vaibhav                            I think an all rounder!   \n",
       "6  Dheeraj Malhotra                                   No earphone jack   \n",
       "7          Avengers                                         Good phone   \n",
       "8     balamurugan.k                                      Superb mobile   \n",
       "9           Saiteja                                          Very good   \n",
       "\n",
       "               Rating                                           Reviews   \n",
       "0  4.0 out of 5 stars  Detailed review --Design - 4/5+Reduced notch+P...  \n",
       "1  5.0 out of 5 stars  Awesome experience..best in class camera... ox...  \n",
       "2  5.0 out of 5 stars  I received One Plus 7T 2 days back. I will des...  \n",
       "3  5.0 out of 5 stars  8 Gb Ram128 Gb storage.This is super amazing p...  \n",
       "4  4.0 out of 5 stars  This phone has great performance, good camera ...  \n",
       "5  5.0 out of 5 stars  I am among the first to buy this phone with pr...  \n",
       "6  4.0 out of 5 stars                                   No earphone jack  \n",
       "7  5.0 out of 5 stars  A One plus user.Oneplus One -> Oneplus 3T -> O...  \n",
       "8  5.0 out of 5 stars          After 1st update battery capacity is good  \n",
       "9  5.0 out of 5 stars  Camera quality l, gestures, condition of packa...  "
      ]
     },
     "execution_count": 140,
     "metadata": {},
     "output_type": "execute_result"
    }
   ],
   "source": [
    "rdf"
   ]
  },
  {
   "cell_type": "code",
   "execution_count": 141,
   "metadata": {},
   "outputs": [],
   "source": [
    "rdf.to_csv('one plus 7T Review.csv', index=True)"
   ]
  },
  {
   "cell_type": "code",
   "execution_count": null,
   "metadata": {},
   "outputs": [],
   "source": []
  }
 ],
 "metadata": {
  "kernelspec": {
   "display_name": "Python 3",
   "language": "python",
   "name": "python3"
  },
  "language_info": {
   "codemirror_mode": {
    "name": "ipython",
    "version": 3
   },
   "file_extension": ".py",
   "mimetype": "text/x-python",
   "name": "python",
   "nbconvert_exporter": "python",
   "pygments_lexer": "ipython3",
   "version": "3.7.6"
  }
 },
 "nbformat": 4,
 "nbformat_minor": 4
}
